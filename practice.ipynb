{
 "cells": [
  {
   "cell_type": "code",
   "execution_count": 1,
   "metadata": {},
   "outputs": [
    {
     "name": "stdout",
     "output_type": "stream",
     "text": [
      "請輸入第一個數字:5\n",
      "請輸入第二個數字:3\n",
      "615\n"
     ]
    }
   ],
   "source": [
    "#第一題\n",
    "num1=int(input('請輸入第一個數字:'))            \n",
    "num2=int(input('請輸入第二個數字:'))\n",
    "n=1  #先設n為1\n",
    "ans=0 \n",
    "for i in range(1,num2+1):  \n",
    "    ans=ans+(num1*n)\n",
    "    n=(n*10)+1\n",
    "print(ans)"
   ]
  },
  {
   "cell_type": "code",
   "execution_count": 2,
   "metadata": {},
   "outputs": [
    {
     "name": "stdout",
     "output_type": "stream",
     "text": [
      "9\n",
      "*\n",
      "**\n",
      "***\n",
      "****\n",
      "*****\n",
      "****\n",
      "***\n",
      "**\n",
      "*\n"
     ]
    }
   ],
   "source": [
    "#第二題(演算法的核心)\n",
    "num=int(input())\n",
    "check=num%2\n",
    "i=1\n",
    "while((num>=3)&(num<=15)&(check!=0)):\n",
    "    mid=num-i\n",
    "    print('*'*i)\n",
    "    i=i+1\n",
    "    if(i>mid):\n",
    "        for j in range(i-2,0,-1):\n",
    "            print('*'*j)\n",
    "            \n",
    "        break"
   ]
  },
  {
   "cell_type": "code",
   "execution_count": 5,
   "metadata": {},
   "outputs": [
    {
     "name": "stdout",
     "output_type": "stream",
     "text": [
      "55\n",
      "輸入錯誤\n",
      "99\n",
      "輸入錯誤\n",
      "98\n",
      "輸入錯誤\n",
      "88\n",
      "輸入錯誤\n",
      "54\n",
      "輸入錯誤\n",
      "3\n",
      "*\n",
      "**\n",
      "*\n",
      "5\n",
      "*\n",
      "**\n",
      "***\n",
      "**\n",
      "*\n",
      "7\n",
      "*\n",
      "**\n",
      "***\n",
      "****\n",
      "***\n",
      "**\n",
      "*\n",
      "9\n",
      "*\n",
      "**\n",
      "***\n",
      "****\n",
      "*****\n",
      "****\n",
      "***\n",
      "**\n",
      "*\n",
      "15\n",
      "*\n",
      "**\n",
      "***\n",
      "****\n",
      "*****\n",
      "******\n",
      "*******\n",
      "********\n",
      "*******\n",
      "******\n",
      "*****\n",
      "****\n",
      "***\n",
      "**\n",
      "*\n",
      "1\n",
      "輸入錯誤\n",
      "0\n"
     ]
    }
   ],
   "source": [
    "#第二題(完整)\n",
    "while True:\n",
    "    num=int(input())  #使用者輸入數字\n",
    "    check=num%2 #檢查奇數 '%'是取餘數的意思，EX:5%2=1。 1,3,5,7,9,11,13...etc去除以2都一定會有餘數\n",
    "    i=1\n",
    "    if(num<=0): #如果輸入=0或小於的數直接break掉跳出去\n",
    "        break\n",
    "    elif ((check==0) | (num==1) | (num>15)): #檢查奇數剛剛上面講過了，另一個是判斷輸入值是否為1，是的話叫他在輸入一次。\n",
    "        print('輸入錯誤')\n",
    "    else:\n",
    "        while((num>=3)&(num<=15)&(check!=0)): #再檢查一次的概念\n",
    "            mid=num-i      #我不知道你會不會推算 你先看看你看不看個懂下面再幹麻 你可以用我們以前統測計概推論程式結果的方式\n",
    "            print('*'*i)   #我再想想看這邊要怎麼解釋會比較方便\n",
    "            i=i+1\n",
    "            if(i>mid):\n",
    "                for j in range(i-2,0,-1):\n",
    "                    print('*'*j)\n",
    "\n",
    "                break"
   ]
  },
  {
   "cell_type": "code",
   "execution_count": 7,
   "metadata": {},
   "outputs": [
    {
     "name": "stdout",
     "output_type": "stream",
     "text": [
      "20\n",
      "20\n",
      "19\n",
      "18\n",
      "17\n",
      "16\n",
      "15\n",
      "14\n",
      "13\n",
      "12\n",
      "11\n",
      "10\n",
      "9\n",
      "8\n",
      "7\n",
      "6\n",
      "5\n",
      "4\n",
      "3\n",
      "2\n",
      "1\n",
      "0\n"
     ]
    }
   ],
   "source": [
    "#第四題\n",
    "import time\n",
    "count=int(input()) #使用者隨便輸入的數字\n",
    "if((count>=5)&(count<=60)): #(判斷輸入的範圍正不正確)\n",
    "    for i in range(count,-1,-1): #因為要倒數，所以從count(使用者輸入的數字) 開始一次-1減到0。\n",
    "        print(i)                 #range(起始數,中止(要在+1或-1),每次+多少or每次減多少)  如果想減到1就停止那語法be like range(count,0,-1)\n",
    "        time.sleep(1) #間隔一秒\n",
    "else:\n",
    "    print('請輸入範圍內數字')\n"
   ]
  },
  {
   "cell_type": "code",
   "execution_count": 8,
   "metadata": {},
   "outputs": [
    {
     "name": "stdout",
     "output_type": "stream",
     "text": [
      "剪刀的數量: 32\n",
      "石頭的數量: 37\n",
      "布的數量: 31\n"
     ]
    }
   ],
   "source": [
    "#第五題\n",
    "import pandas as pd #建議一開始就import這兩個東西(pandas & numpy)\n",
    "import numpy as np #(一定要載入這個)\n",
    "listA = ['剪刀', '石頭', '布'] \n",
    "res_list=[] #存答案的list\n",
    "for i in range(1,101,1): #1-100,每次+1\n",
    "    res=np.random.choice(listA) #開始隨機猜拳 並把每次猜的結果用res先暫存 然後開始下去一一配對\n",
    "    if(res=='剪刀'):\n",
    "        res_list.append(res)\n",
    "    elif(res=='石頭'):\n",
    "        res_list.append(res)\n",
    "    elif(res=='布'):\n",
    "        res_list.append(res)\n",
    "print('剪刀的數量:',res_list.count('剪刀'))\n",
    "print('石頭的數量:',res_list.count('石頭'))\n",
    "print('布的數量:',res_list.count('布')) #計算list裡每個結果的語法 \"list.count('你想看的結果')\""
   ]
  },
  {
   "cell_type": "code",
   "execution_count": 9,
   "metadata": {},
   "outputs": [
    {
     "name": "stdout",
     "output_type": "stream",
     "text": [
      "9A\n",
      "AAAAAAAAA\n"
     ]
    }
   ],
   "source": [
    "#第六題\n",
    "user_input=str(input())\n",
    "fir=user_input[0]   #取出第一個字\n",
    "sec=user_input[1]   #取出第二個字\n",
    "if((fir.isdigit()==True) & (sec.isalpha()==True)):  #fir.isdigit()→第一個字是否為數字    判斷第二個字是否為字母sec.isalpha()\n",
    "    times=int(fir)  #雖然是數字，但他是string的形式，所以要用int()這個方式轉成int，才可以直接像下面一樣直接乘\n",
    "    print(sec*times)"
   ]
  },
  {
   "cell_type": "code",
   "execution_count": null,
   "metadata": {},
   "outputs": [],
   "source": []
  }
 ],
 "metadata": {
  "kernelspec": {
   "display_name": "Python 3",
   "language": "python",
   "name": "python3"
  },
  "language_info": {
   "codemirror_mode": {
    "name": "ipython",
    "version": 3
   },
   "file_extension": ".py",
   "mimetype": "text/x-python",
   "name": "python",
   "nbconvert_exporter": "python",
   "pygments_lexer": "ipython3",
   "version": "3.8.3"
  }
 },
 "nbformat": 4,
 "nbformat_minor": 4
}
